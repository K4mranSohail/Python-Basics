{
  "nbformat": 4,
  "nbformat_minor": 0,
  "metadata": {
    "colab": {
      "provenance": []
    },
    "kernelspec": {
      "name": "python3",
      "display_name": "Python 3"
    },
    "language_info": {
      "name": "python"
    }
  },
  "cells": [
    {
      "cell_type": "markdown",
      "source": [
        "# Python Basics Questions"
      ],
      "metadata": {
        "id": "11pftSMk0_5i"
      }
    },
    {
      "cell_type": "markdown",
      "source": [
        "Q1. What is Python, and why is it popular ?\n",
        "\n",
        "Ans - Python is a high-level, interpreted programming language known for its simplicity, readability, and versatility. It was created by Guido van Rossum and first released in 1991. Python is widely used for web development, data science, automation, artificial intelligence (AI), machine learning (ML), and more.\n",
        "     It is popular because,\n",
        "     1. Easy to Learn and Readable\n",
        "     2. Versatile and Multi-purpose\n",
        "     3. Extensive Libraries and Frameworks\n",
        "     4. Large Community Support\n",
        "     5. Used in Data Science & AI/ML\n",
        "\n",
        "Q2. What is an interpreter in Python ?\n",
        "\n",
        "Ans - An interpreter in Python is a program that reads and executes Python code line by line, rather than compiling the entire code before execution. This makes Python an interpreted language instead of a compiled one.\n",
        "\n",
        "Q3. What are pre-defined keywords in Python ?\n",
        "\n",
        "Ans - Pre-defined keywords in Python are reserved words that have a specific meaning in the language. These keywords cannot be used as variable names, function names, or identifiers because they are part of Python's syntax and structure.\n",
        "\n",
        "Q4. Can keywords be used as variable names ?\n",
        "\n",
        "Ans - No, Python keywords cannot be used as variable names because they have predefined meanings and are part of Python's syntax. Attempting to use a keyword as a variable name will result in a SyntaxError.\n",
        "\n",
        "Q5. What is mutability in Python ?\n",
        "\n",
        "Ans - Mutability in Python refers to whether an object's value can be changed after it has been created.\n",
        "\n",
        "Q6. Why are lists mutable, but tuples are immutable ?\n",
        "\n",
        "Ans - Lists are mutable because they are designed for dynamic changes, while tuples are immutable for better performance, memory efficiency, and data integrity. We use lists when we need to modify data and tuples when we need fixed, unchangeable data.\n",
        "\n",
        "Q7. What is the difference between “==” and “is” operators in Python ?\n",
        "\n",
        "Ans - The diffrence between \"==\" and \"is\" operator in pyhthon is\n",
        "\"==\" use when we comparing values, and , \"is\" use when we checking if two variables reference the same object in memory.\n",
        "\n",
        "Q8. What are logical operators in Python ?\n",
        "\n",
        "Ans - Logical operators in Python are used to combine conditional statements. They return either True or False based on the given conditions.\n",
        "\n",
        "Types of logical operators are:\n",
        "1. AND\n",
        "2. OR\n",
        "3. NOT\n",
        "\n",
        "Q9.  What is type casting in Python ?\n",
        "\n",
        "Ans - Type casting in Python is the process of converting one data type into another.\n",
        "\n",
        "Q10. What is the difference between implicit and explicit type casting ?\n",
        "\n",
        "Ans - Implicit Type Casting is safe and automatic, used when Python can ensure no data loss. But, Explicit Type Casting gives control to the programmer, but data loss or errors can occur if not handled properly.\n",
        "\n",
        "Q11. What is the purpose of conditional statements in Python ?\n",
        "\n",
        "Ans - Conditional statements are a crucial part of programming as they provide the ability to make decisions and branch the program's flow based on certain conditions. They are used in virtually every program to ensure the right actions are taken under the right circumstances.\n",
        "\n",
        "Q12.  How does the elif statement work ?\n",
        "\n",
        "Ans - The elif statement is useful for checking multiple conditions in a sequential manner.\n",
        "\n",
        "Q13. What is the difference between for and while loops ?\n",
        "\n",
        "Ans - The for loop is ideal for situations where you know the exact number of iterations (like iterating over a range or a collection). But,the while loop is best used when you want the loop to run until a condition is no longer met, without knowing the exact number of iterations in advance.\n",
        "\n",
        "Q14.  Describe a scenario where a while loop is more suitable than a for loop.\n",
        "\n",
        "Ans - Imagine we're building a program that asks a user to enter a valid password. The program should keep asking the user for a password until they enter a valid one. In this case, we don't know how many times the user will need to try, so a while loop is more suitable than a for loop.\n",
        "\n",
        "\n",
        "\n",
        "\n"
      ],
      "metadata": {
        "id": "Xmp-UOwEZDs3"
      }
    },
    {
      "cell_type": "markdown",
      "source": [
        "# Practical Questions"
      ],
      "metadata": {
        "id": "IcpWAVn_1NDr"
      }
    },
    {
      "cell_type": "code",
      "source": [
        "# Write a Python program to print \"Hello, World!\"\n",
        "\n",
        "print(\"Hello, World!\")"
      ],
      "metadata": {
        "colab": {
          "base_uri": "https://localhost:8080/"
        },
        "id": "YMUTTYrSgwST",
        "outputId": "fd97ef54-5092-4f17-e690-0f80117a63d0"
      },
      "execution_count": 2,
      "outputs": [
        {
          "output_type": "stream",
          "name": "stdout",
          "text": [
            "Hello, World!\n"
          ]
        }
      ]
    },
    {
      "cell_type": "code",
      "source": [
        "# Write a Python program that displays your name and age ?\n",
        "\n",
        "name = \"Kamran Sohail\"\n",
        "age = 21\n",
        "\n",
        "print(\"Name:\", name)\n",
        "print(\"Age:\", age)\n"
      ],
      "metadata": {
        "colab": {
          "base_uri": "https://localhost:8080/"
        },
        "id": "8SCWrdyQg-9G",
        "outputId": "7fe2e063-74c7-4864-bc14-5e7d27fad10f"
      },
      "execution_count": 3,
      "outputs": [
        {
          "output_type": "stream",
          "name": "stdout",
          "text": [
            "Name: Kamran Sohail\n",
            "Age: 21\n"
          ]
        }
      ]
    },
    {
      "cell_type": "code",
      "source": [
        "# Write code to print all the pre-defined keywords in Python using the keyword library\n",
        "\n",
        "import keyword\n",
        "print(\"Python Keywords:\")\n",
        "print(keyword.kwlist)\n"
      ],
      "metadata": {
        "colab": {
          "base_uri": "https://localhost:8080/"
        },
        "id": "EMXj1D1jhl3v",
        "outputId": "0cbbb287-20c6-45a5-c55d-5ce8373fd421"
      },
      "execution_count": 4,
      "outputs": [
        {
          "output_type": "stream",
          "name": "stdout",
          "text": [
            "Python Keywords:\n",
            "['False', 'None', 'True', 'and', 'as', 'assert', 'async', 'await', 'break', 'class', 'continue', 'def', 'del', 'elif', 'else', 'except', 'finally', 'for', 'from', 'global', 'if', 'import', 'in', 'is', 'lambda', 'nonlocal', 'not', 'or', 'pass', 'raise', 'return', 'try', 'while', 'with', 'yield']\n"
          ]
        }
      ]
    },
    {
      "cell_type": "code",
      "source": [
        "# Write a program that checks if a given word is a Python keyword\n",
        "\n",
        "import keyword\n",
        "word = input(\"Enter a word to check if it's a Python keyword: \")\n",
        "if keyword.iskeyword(word):\n",
        "    print(f\"'{word}' is a Python keyword.\")\n",
        "else:\n",
        "    print(f\"'{word}' is not a Python keyword.\")\n"
      ],
      "metadata": {
        "colab": {
          "base_uri": "https://localhost:8080/"
        },
        "id": "lPD7Cx1Fh2_1",
        "outputId": "d8fb2b1c-95f8-4c6b-a5e6-7cfd2a0fe4bc"
      },
      "execution_count": 5,
      "outputs": [
        {
          "output_type": "stream",
          "name": "stdout",
          "text": [
            "Enter a word to check if it's a Python keyword: else\n",
            "'else' is a Python keyword.\n"
          ]
        }
      ]
    },
    {
      "cell_type": "code",
      "source": [
        "# Create a list and tuple in Python, and demonstrate how attempting to change an element works differently for each.\n",
        "\n",
        "# Creating a List\n",
        "my_list = [1, 2, 3, 4]\n",
        "print(\"Original List:\", my_list)\n",
        "\n",
        "# Trying to change an element in the List\n",
        "my_list[2] = 100\n",
        "print(\"Modified List:\", my_list)\n",
        "\n",
        "# Creating a Tuple\n",
        "my_tuple = (1, 2, 3, 4)\n",
        "print(\"\\nOriginal Tuple:\", my_tuple)\n",
        "\n",
        "# Trying to change an element in the Tuple\n",
        "try:\n",
        "    my_tuple[2] = 100\n",
        "except TypeError as e:\n",
        "    print(\"Error while modifying Tuple:\", e)\n"
      ],
      "metadata": {
        "colab": {
          "base_uri": "https://localhost:8080/"
        },
        "id": "FO2JS8BHiS7U",
        "outputId": "d98df6ba-812d-46ae-bf53-1b1b777508a9"
      },
      "execution_count": 6,
      "outputs": [
        {
          "output_type": "stream",
          "name": "stdout",
          "text": [
            "Original List: [1, 2, 3, 4]\n",
            "Modified List: [1, 2, 100, 4]\n",
            "\n",
            "Original Tuple: (1, 2, 3, 4)\n",
            "Error while modifying Tuple: 'tuple' object does not support item assignment\n"
          ]
        }
      ]
    },
    {
      "cell_type": "code",
      "source": [
        "# Write a function to demonstrate the behavior of mutable and immutable arguments.\n",
        "\n",
        "def demonstrate_mutable_immutable(mutable_arg, immutable_arg):\n",
        "    mutable_arg.append(100)  # Modify list\n",
        "    immutable_arg += 10      # Modify integer (creates a new object)\n",
        "\n",
        "# Mutable (list) and Immutable (int) arguments\n",
        "mutable_list = [1, 2, 3]\n",
        "immutable_int = 5\n",
        "\n",
        "demonstrate_mutable_immutable(mutable_list, immutable_int)\n",
        "\n",
        "# Outside function\n",
        "print(mutable_list)  # [1, 2, 3, 100]\n",
        "print(immutable_int)  # 5\n"
      ],
      "metadata": {
        "colab": {
          "base_uri": "https://localhost:8080/"
        },
        "id": "MwbrijAvi3ww",
        "outputId": "a534928d-8f0d-4aaf-980b-8816d6121b62"
      },
      "execution_count": 7,
      "outputs": [
        {
          "output_type": "stream",
          "name": "stdout",
          "text": [
            "[1, 2, 3, 100]\n",
            "5\n"
          ]
        }
      ]
    },
    {
      "cell_type": "code",
      "source": [
        "# Write a program that performs basic arithmetic operations on two user-input numbers.\n",
        "\n",
        "# Taking user input for two numbers\n",
        "num1 = float(input(\"Enter the first number: \"))\n",
        "num2 = float(input(\"Enter the second number: \"))\n",
        "\n",
        "# Performing arithmetic operations\n",
        "addition = num1 + num2\n",
        "subtraction = num1 - num2\n",
        "multiplication = num1 * num2\n",
        "\n",
        "# Checking for division by zero\n",
        "if num2 != 0:\n",
        "    division = num1 / num2\n",
        "else:\n",
        "    division = \"undefined (cannot divide by zero)\"\n",
        "\n",
        "# Displaying the results\n",
        "print(\"\\nResults:\")\n",
        "print(f\"Addition: {num1} + {num2} = {addition}\")\n",
        "print(f\"Subtraction: {num1} - {num2} = {subtraction}\")\n",
        "print(f\"Multiplication: {num1} * {num2} = {multiplication}\")\n",
        "print(f\"Division: {num1} / {num2} = {division}\")\n"
      ],
      "metadata": {
        "colab": {
          "base_uri": "https://localhost:8080/"
        },
        "id": "a3QPKXrqjS2l",
        "outputId": "af14551d-5d8e-4ac5-c29d-a841cb410d4e"
      },
      "execution_count": 8,
      "outputs": [
        {
          "output_type": "stream",
          "name": "stdout",
          "text": [
            "Enter the first number: 0.5\n",
            "Enter the second number: 0.15\n",
            "\n",
            "Results:\n",
            "Addition: 0.5 + 0.15 = 0.65\n",
            "Subtraction: 0.5 - 0.15 = 0.35\n",
            "Multiplication: 0.5 * 0.15 = 0.075\n",
            "Division: 0.5 / 0.15 = 3.3333333333333335\n"
          ]
        }
      ]
    },
    {
      "cell_type": "code",
      "source": [
        "# Write a program to demonstrate the use of logical operators.\n",
        "\n",
        "# Taking user input for two numbers\n",
        "num1 = int(input(\"Enter the first number: \"))\n",
        "num2 = int(input(\"Enter the second number: \"))\n",
        "\n",
        "# Using logical operators to check conditions\n",
        "if num1 > 0 and num2 > 0:\n",
        "    print(\"Both numbers are positive.\")\n",
        "elif num1 > 0 or num2 > 0:\n",
        "    print(\"At least one number is positive.\")\n",
        "else:\n",
        "    print(\"Neither number is positive.\")\n",
        "\n",
        "# Using 'not' to check if both numbers are non-positive\n",
        "if not (num1 > 0 and num2 > 0):\n",
        "    print(\"At least one number is non-positive.\")\n"
      ],
      "metadata": {
        "colab": {
          "base_uri": "https://localhost:8080/"
        },
        "id": "U4rYyRjLj5lD",
        "outputId": "7fb659df-e66c-4249-887b-2dc656f2100b"
      },
      "execution_count": 9,
      "outputs": [
        {
          "output_type": "stream",
          "name": "stdout",
          "text": [
            "Enter the first number: 15\n",
            "Enter the second number: -4\n",
            "At least one number is positive.\n",
            "At least one number is non-positive.\n"
          ]
        }
      ]
    },
    {
      "cell_type": "code",
      "source": [
        "# Write a Python program to convert user input from string to integer, float, and boolean types.\n",
        "\n",
        "# Taking user input as a string\n",
        "user_input = input(\"Enter a value: \")\n",
        "\n",
        "# Convert string to integer\n",
        "try:\n",
        "    int_value = int(user_input)\n",
        "    print(f\"Converted to Integer: {int_value}\")\n",
        "except ValueError:\n",
        "    print(\"Invalid input for Integer conversion.\")\n",
        "\n",
        "# Convert string to float\n",
        "try:\n",
        "    float_value = float(user_input)\n",
        "    print(f\"Converted to Float: {float_value}\")\n",
        "except ValueError:\n",
        "    print(\"Invalid input for Float conversion.\")\n",
        "\n",
        "# Convert string to boolean\n",
        "# Assume 'True' and 'False' or other truthy/falsy values\n",
        "if user_input.lower() in ['true', '1', 't', 'y', 'yes']:\n",
        "    bool_value = True\n",
        "else:\n",
        "    bool_value = False\n",
        "print(f\"Converted to Boolean: {bool_value}\")\n"
      ],
      "metadata": {
        "colab": {
          "base_uri": "https://localhost:8080/"
        },
        "id": "H1zvq7a0kMzk",
        "outputId": "3e7a4df9-31c5-4992-a15d-9809563ffc5e"
      },
      "execution_count": 10,
      "outputs": [
        {
          "output_type": "stream",
          "name": "stdout",
          "text": [
            "Enter a value: 456\n",
            "Converted to Integer: 456\n",
            "Converted to Float: 456.0\n",
            "Converted to Boolean: False\n"
          ]
        }
      ]
    },
    {
      "cell_type": "code",
      "source": [
        "# Write code to demonstrate type casting with list elements.\n",
        "\n",
        "# Original list of string elements\n",
        "string_list = [\"10\", \"20\", \"30\", \"40.5\", \"50.5\"]\n",
        "\n",
        "# Type casting from string to integer\n",
        "int_list = [int(item) if '.' not in item else int(float(item)) for item in string_list]\n",
        "print(\"List with integers:\", int_list)\n",
        "\n",
        "# Type casting from string to float\n",
        "float_list = [float(item) for item in string_list]\n",
        "print(\"List with floats:\", float_list)\n",
        "\n",
        "# Type casting from string to boolean\n",
        "bool_list = [item.lower() in ['true', '1', 't', 'y', 'yes'] for item in string_list]\n",
        "print(\"List with booleans:\", bool_list)\n"
      ],
      "metadata": {
        "colab": {
          "base_uri": "https://localhost:8080/"
        },
        "id": "NZAll_fzzBgy",
        "outputId": "0c097479-3d14-4cbf-99b6-d38c10b7cb91"
      },
      "execution_count": 11,
      "outputs": [
        {
          "output_type": "stream",
          "name": "stdout",
          "text": [
            "List with integers: [10, 20, 30, 40, 50]\n",
            "List with floats: [10.0, 20.0, 30.0, 40.5, 50.5]\n",
            "List with booleans: [False, False, False, False, False]\n"
          ]
        }
      ]
    },
    {
      "cell_type": "code",
      "source": [
        "# Write a program that checks if a number is positive, negative, or zero.\n",
        "\n",
        "# Taking user input\n",
        "num = float(input(\"Enter a number: \"))\n",
        "\n",
        "# Checking if the number is positive, negative, or zero\n",
        "if num > 0:\n",
        "    print(\"The number is positive.\")\n",
        "elif num < 0:\n",
        "    print(\"The number is negative.\")\n",
        "else:\n",
        "    print(\"The number is zero.\")\n"
      ],
      "metadata": {
        "colab": {
          "base_uri": "https://localhost:8080/"
        },
        "id": "GRGJoJybzSOy",
        "outputId": "d032f5f2-810c-4ec7-9fd5-89ae5257b3d7"
      },
      "execution_count": 14,
      "outputs": [
        {
          "output_type": "stream",
          "name": "stdout",
          "text": [
            "Enter a number: 0\n",
            "The number is zero.\n"
          ]
        }
      ]
    },
    {
      "cell_type": "code",
      "source": [
        "# Write a for loop to print numbers from 1 to 10.\n",
        "\n",
        "for i in range(1, 11):\n",
        "    print(i)\n"
      ],
      "metadata": {
        "colab": {
          "base_uri": "https://localhost:8080/"
        },
        "id": "bwQiCHcxzm54",
        "outputId": "0382744e-3d03-4846-840b-7d21fa792773"
      },
      "execution_count": 15,
      "outputs": [
        {
          "output_type": "stream",
          "name": "stdout",
          "text": [
            "1\n",
            "2\n",
            "3\n",
            "4\n",
            "5\n",
            "6\n",
            "7\n",
            "8\n",
            "9\n",
            "10\n"
          ]
        }
      ]
    },
    {
      "cell_type": "code",
      "source": [
        "# Write a Python program to find the sum of all even numbers between 1 and 50.\n",
        "\n",
        "sum_of_even_numbers = 0\n",
        "\n",
        "for num in range(2, 51, 2):\n",
        "    sum_of_even_numbers += num\n",
        "\n",
        "print(\"Sum of all even numbers between 1 and 50:\", sum_of_even_numbers)\n"
      ],
      "metadata": {
        "colab": {
          "base_uri": "https://localhost:8080/"
        },
        "id": "vJZzDZzZz7sB",
        "outputId": "a03ad5d8-a1cb-4ad6-a6f2-18ec1ea714cf"
      },
      "execution_count": 16,
      "outputs": [
        {
          "output_type": "stream",
          "name": "stdout",
          "text": [
            "Sum of all even numbers between 1 and 50: 650\n"
          ]
        }
      ]
    },
    {
      "cell_type": "code",
      "source": [
        "# Write a program to reverse a string using a while loop.\n",
        "\n",
        "user_string = input(\"Enter a string: \")\n",
        "\n",
        "# Initialize an empty string for the reversed string\n",
        "reversed_string = \"\"\n",
        "\n",
        "# Initialize a counter for the while loop\n",
        "index = len(user_string) - 1\n",
        "\n",
        "# Use a while loop to reverse the string\n",
        "while index >= 0:\n",
        "    reversed_string += user_string[index]  # Add the character at the current index\n",
        "    index -= 1  # Move to the previous character\n",
        "\n",
        "# Print the reversed string\n",
        "print(\"Reversed string:\", reversed_string)\n"
      ],
      "metadata": {
        "colab": {
          "base_uri": "https://localhost:8080/"
        },
        "id": "CfmEyFtd0UCm",
        "outputId": "4f756335-98cb-4a16-fcd3-6335e8ec9162"
      },
      "execution_count": 17,
      "outputs": [
        {
          "output_type": "stream",
          "name": "stdout",
          "text": [
            "Enter a string: PWSKILLS\n",
            "Reversed string: SLLIKSWP\n"
          ]
        }
      ]
    },
    {
      "cell_type": "code",
      "source": [
        "#  Write a Python program to calculate the factorial of a number provided by the user using a while loop.\n",
        "\n",
        "num = int(input(\"Enter a number to find its factorial: \"))\n",
        "\n",
        "# Initialize variables\n",
        "factorial = 1\n",
        "i = 1\n",
        "\n",
        "# Calculate factorial using while loop\n",
        "while i <= num:\n",
        "    factorial *= i  # Multiply factorial by current value of i\n",
        "    i += 1  # Increment i\n",
        "\n",
        "# Print the result\n",
        "print(f\"The factorial of {num} is: {factorial}\")\n"
      ],
      "metadata": {
        "colab": {
          "base_uri": "https://localhost:8080/"
        },
        "id": "f0r4vlD00lcB",
        "outputId": "e4460b48-e849-483a-8a67-1ad0e39dcc32"
      },
      "execution_count": 18,
      "outputs": [
        {
          "output_type": "stream",
          "name": "stdout",
          "text": [
            "Enter a number to find its factorial: 6\n",
            "The factorial of 6 is: 720\n"
          ]
        }
      ]
    }
  ]
}